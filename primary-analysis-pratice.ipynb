{
 "cells": [
  {
   "cell_type": "code",
   "execution_count": 2,
   "id": "f367fadd-5721-4a8d-a109-26041dc344a3",
   "metadata": {},
   "outputs": [],
   "source": [
    "import math\n",
    "import numpy as np\n",
    "import pandas as pd\n",
    "import matplotlib.pyplot as plt\n",
    "\n",
    "from pandas.core.frame import DataFrame\n",
    "from scipy import stats"
   ]
  },
  {
   "cell_type": "code",
   "execution_count": 4,
   "id": "8d56c96e-c46d-4e73-9b78-84af79ed750e",
   "metadata": {},
   "outputs": [
    {
     "data": {
      "text/html": [
       "<div>\n",
       "<style scoped>\n",
       "    .dataframe tbody tr th:only-of-type {\n",
       "        vertical-align: middle;\n",
       "    }\n",
       "\n",
       "    .dataframe tbody tr th {\n",
       "        vertical-align: top;\n",
       "    }\n",
       "\n",
       "    .dataframe thead th {\n",
       "        text-align: right;\n",
       "    }\n",
       "</style>\n",
       "<table border=\"1\" class=\"dataframe\">\n",
       "  <thead>\n",
       "    <tr style=\"text-align: right;\">\n",
       "      <th></th>\n",
       "      <th>Z1-4</th>\n",
       "      <th>Z5A</th>\n",
       "      <th>Z5B</th>\n",
       "      <th>Z6I</th>\n",
       "      <th>Z6IIA</th>\n",
       "      <th>Z6IIB</th>\n",
       "      <th>Z7A</th>\n",
       "      <th>Z7B</th>\n",
       "      <th>Z8A</th>\n",
       "      <th>Z8B</th>\n",
       "      <th>Z9A</th>\n",
       "      <th>Z9B</th>\n",
       "      <th>Z10A</th>\n",
       "      <th>Z10B</th>\n",
       "      <th>Z11</th>\n",
       "      <th>Z12</th>\n",
       "      <th>Z13</th>\n",
       "      <th>Z14,15,16_x</th>\n",
       "      <th>Z14,15,16_y</th>\n",
       "      <th>Unnamed: 19</th>\n",
       "    </tr>\n",
       "  </thead>\n",
       "  <tbody>\n",
       "    <tr>\n",
       "      <th>0</th>\n",
       "      <td>122.3</td>\n",
       "      <td>152.0</td>\n",
       "      <td>158.8</td>\n",
       "      <td>B</td>\n",
       "      <td>133.7</td>\n",
       "      <td>131.6</td>\n",
       "      <td>168.3</td>\n",
       "      <td>172.2</td>\n",
       "      <td>54.9</td>\n",
       "      <td>76.3</td>\n",
       "      <td>85.8</td>\n",
       "      <td>154.7</td>\n",
       "      <td>24.7</td>\n",
       "      <td>27.7</td>\n",
       "      <td>103.3</td>\n",
       "      <td>100.7</td>\n",
       "      <td>118.5</td>\n",
       "      <td>120.6</td>\n",
       "      <td>84.4</td>\n",
       "      <td>NaN</td>\n",
       "    </tr>\n",
       "    <tr>\n",
       "      <th>1</th>\n",
       "      <td>117.9</td>\n",
       "      <td>161.4</td>\n",
       "      <td>159.2</td>\n",
       "      <td>B</td>\n",
       "      <td>170.7</td>\n",
       "      <td>157.0</td>\n",
       "      <td>173.2</td>\n",
       "      <td>154.7</td>\n",
       "      <td>50.9</td>\n",
       "      <td>60.9</td>\n",
       "      <td>134.8</td>\n",
       "      <td>137.2</td>\n",
       "      <td>18.4</td>\n",
       "      <td>20.4</td>\n",
       "      <td>93.9</td>\n",
       "      <td>91.5</td>\n",
       "      <td>122.4</td>\n",
       "      <td>124.2</td>\n",
       "      <td>76.9</td>\n",
       "      <td>NaN</td>\n",
       "    </tr>\n",
       "    <tr>\n",
       "      <th>2</th>\n",
       "      <td>118.0</td>\n",
       "      <td>140.1</td>\n",
       "      <td>151.5</td>\n",
       "      <td>B</td>\n",
       "      <td>169.2</td>\n",
       "      <td>155.3</td>\n",
       "      <td>186.1</td>\n",
       "      <td>167.4</td>\n",
       "      <td>28.2</td>\n",
       "      <td>66.2</td>\n",
       "      <td>174.0</td>\n",
       "      <td>146.7</td>\n",
       "      <td>29.5</td>\n",
       "      <td>30.4</td>\n",
       "      <td>96.3</td>\n",
       "      <td>96.5</td>\n",
       "      <td>120.4</td>\n",
       "      <td>126.2</td>\n",
       "      <td>82.3</td>\n",
       "      <td>NaN</td>\n",
       "    </tr>\n",
       "    <tr>\n",
       "      <th>3</th>\n",
       "      <td>124.0</td>\n",
       "      <td>147.0</td>\n",
       "      <td>160.4</td>\n",
       "      <td>B</td>\n",
       "      <td>163.1</td>\n",
       "      <td>148.2</td>\n",
       "      <td>160.7</td>\n",
       "      <td>176.6</td>\n",
       "      <td>54.2</td>\n",
       "      <td>89.9</td>\n",
       "      <td>177.9</td>\n",
       "      <td>142.9</td>\n",
       "      <td>30.2</td>\n",
       "      <td>25.8</td>\n",
       "      <td>92.2</td>\n",
       "      <td>94.3</td>\n",
       "      <td>117.9</td>\n",
       "      <td>127.6</td>\n",
       "      <td>80.0</td>\n",
       "      <td>NaN</td>\n",
       "    </tr>\n",
       "    <tr>\n",
       "      <th>4</th>\n",
       "      <td>126.5</td>\n",
       "      <td>150.6</td>\n",
       "      <td>152.2</td>\n",
       "      <td>B</td>\n",
       "      <td>144.1</td>\n",
       "      <td>143.4</td>\n",
       "      <td>177.9</td>\n",
       "      <td>160.7</td>\n",
       "      <td>42.7</td>\n",
       "      <td>68.9</td>\n",
       "      <td>163.4</td>\n",
       "      <td>136.3</td>\n",
       "      <td>20.7</td>\n",
       "      <td>26.0</td>\n",
       "      <td>97.4</td>\n",
       "      <td>104.7</td>\n",
       "      <td>120.3</td>\n",
       "      <td>128.9</td>\n",
       "      <td>76.7</td>\n",
       "      <td>NaN</td>\n",
       "    </tr>\n",
       "  </tbody>\n",
       "</table>\n",
       "</div>"
      ],
      "text/plain": [
       "    Z1-4    Z5A    Z5B Z6I  Z6IIA  Z6IIB    Z7A    Z7B   Z8A   Z8B    Z9A  \\\n",
       "0  122.3  152.0  158.8   B  133.7  131.6  168.3  172.2  54.9  76.3   85.8   \n",
       "1  117.9  161.4  159.2   B  170.7  157.0  173.2  154.7  50.9  60.9  134.8   \n",
       "2  118.0  140.1  151.5   B  169.2  155.3  186.1  167.4  28.2  66.2  174.0   \n",
       "3  124.0  147.0  160.4   B  163.1  148.2  160.7  176.6  54.2  89.9  177.9   \n",
       "4  126.5  150.6  152.2   B  144.1  143.4  177.9  160.7  42.7  68.9  163.4   \n",
       "\n",
       "     Z9B  Z10A  Z10B    Z11    Z12    Z13  Z14,15,16_x  Z14,15,16_y  \\\n",
       "0  154.7  24.7  27.7  103.3  100.7  118.5        120.6         84.4   \n",
       "1  137.2  18.4  20.4   93.9   91.5  122.4        124.2         76.9   \n",
       "2  146.7  29.5  30.4   96.3   96.5  120.4        126.2         82.3   \n",
       "3  142.9  30.2  25.8   92.2   94.3  117.9        127.6         80.0   \n",
       "4  136.3  20.7  26.0   97.4  104.7  120.3        128.9         76.7   \n",
       "\n",
       "   Unnamed: 19  \n",
       "0          NaN  \n",
       "1          NaN  \n",
       "2          NaN  \n",
       "3          NaN  \n",
       "4          NaN  "
      ]
     },
     "execution_count": 4,
     "metadata": {},
     "output_type": "execute_result"
    }
   ],
   "source": [
    "data = pd.read_csv('data\\\\data.csv', sep=';')\n",
    "data.head()"
   ]
  },
  {
   "cell_type": "markdown",
   "id": "1bc46769-c718-4aee-b4f3-4ca0e3fed57b",
   "metadata": {
    "tags": []
   },
   "source": [
    "# Первичный статистический анализ"
   ]
  },
  {
   "cell_type": "markdown",
   "id": "cf805bee-a5e3-4883-aba8-a03ca203837f",
   "metadata": {},
   "source": [
    "## Нахождение выборочных характеристик"
   ]
  },
  {
   "cell_type": "code",
   "execution_count": 11,
   "id": "884ddbeb-9450-477f-810b-307eb81dc928",
   "metadata": {},
   "outputs": [],
   "source": [
    "def describe(data: np.array):\n",
    "    \"\"\"\n",
    "    Вычисление основных описательных характеристик\n",
    "    Args:\n",
    "        data: данные в виде DataFrame\n",
    "        column: название столбца\n",
    "    \"\"\"\n",
    "    print('Объем выборки:', data.shape[0])\n",
    "    print('Среднее значение:', data.mean())\n",
    "    print('Выборочная дисперсия:', data.var())\n",
    "    print('Станд. отклонение:', data.std())\n",
    "\n",
    "    data_skew = stats.skew(data)\n",
    "    if data_skew > 0:\n",
    "        text_skew = \"Данные отклонены левее относительно истинного нормального распределения!\"\n",
    "    else:\n",
    "        text_skew = \"Данные отклонены правее относительно истинного нормального распределения!\"\n",
    "    \n",
    "    data_kurtosis = stats.kurtosis(data)\n",
    "    if data_kurtosis > 0:\n",
    "        text_kurtosis = \"Большая часть данных расположена у среднего значения \\\n",
    "(график выше относительно истинного нормального распределения)!\"\n",
    "    else:\n",
    "        text_kurtosis = \"Большая часть данных отдаленая от среднего значения! \\\n",
    "(график ниже относительно истинного нормального распределения)!\"\n",
    "    print('Асимметрия:', data_skew)\n",
    "    print(text_skew)\n",
    "    print('Эксцесс:', data_kurtosis)\n",
    "    print(text_kurtosis)"
   ]
  },
  {
   "cell_type": "code",
   "execution_count": 12,
   "id": "3378525d-66d6-44ad-a257-f4a4db976fa2",
   "metadata": {},
   "outputs": [
    {
     "name": "stdout",
     "output_type": "stream",
     "text": [
      "Объем выборки: 85\n",
      "Среднее значение: 121.22941176470589\n",
      "Выборочная дисперсия: 6.018311418685119\n",
      "Станд. отклонение: 2.453224697960853\n",
      "Асимметрия: -0.16139798816918977\n",
      "Данные отклонены правее относительно истинного нормального распределения!\n",
      "Эксцесс: 0.7280381372680744\n",
      "Большая часть данных расположена у среднего значения (график выше относительно истинного нормального распределения)!\n"
     ]
    }
   ],
   "source": [
    "X_data = data['Z1-4'].to_numpy()\n",
    "X_data = X_data[~np.isnan(X_data)]\n",
    "describe(X_data)"
   ]
  },
  {
   "cell_type": "markdown",
   "id": "6920c36f-5eb0-4f78-8ae9-c968653544d6",
   "metadata": {},
   "source": [
    "## Построение гистограммы и функции плотности"
   ]
  },
  {
   "cell_type": "code",
   "execution_count": 9,
   "id": "fb852dd1-6c93-4227-a5fa-cd63fa26fdcc",
   "metadata": {
    "tags": []
   },
   "outputs": [],
   "source": [
    "def hist_pdf(data: np.array, bins: int=9, distn: str='norm'):\n",
    "    \"\"\"\n",
    "    Построение гистограммы для оценки функции плотности\n",
    "    Args:\n",
    "        data: данные\n",
    "        bins: число интервалов в гистограмме\n",
    "    \"\"\"\n",
    "    data.sort()\n",
    "    n = data.shape[0]\n",
    "    data_mean = data.mean()\n",
    "    data_std = data.std()\n",
    "    data_min = data.min()\n",
    "    data_max = data.max()\n",
    "    \n",
    "    if distn == 'norm':\n",
    "        pdf_func = stats.norm.pdf\n",
    "        pdf_params = (data_mean, data_std)\n",
    "    elif distn == 'exp':\n",
    "        pdf_func = stats.expon.pdf\n",
    "        pdf_params = (0, data_mean)\n",
    "    elif distn == 'uniform':\n",
    "        pdf_func = stats.uniform.pdf\n",
    "        pdf_params = (data_min, data_max)\n",
    "    else:\n",
    "        raise Exception('Distribution should be like norm, exp, uniform!')\n",
    "    \n",
    "    \n",
    "    fig, axs = plt.subplots(1, 1, figsize=(7, 7))\n",
    "    axs.set_title('Оценка функции плотности')\n",
    "    freq, bords, _ = axs.hist(data, bins = bins, label='Гистограмма')\n",
    "    \n",
    "    rect = axs.patches\n",
    "    labels = [str(int(f)) for f in freq]\n",
    "    for rect, label in zip(axs.patches, labels):\n",
    "        height = rect.get_height()\n",
    "        axs.text(rect.get_x() + rect.get_width() / 2, height + 0.01, label, \\\n",
    "                ha='center', va='bottom')\n",
    "    \n",
    "    delta = bords[1] - bords[0]\n",
    "    data_pdf = delta * n * pdf_func(data, *pdf_params)\n",
    "    axs.plot(data, data_pdf, label='Функция плотности')\n",
    "    axs.legend()\n",
    "    plt.show()"
   ]
  },
  {
   "cell_type": "code",
   "execution_count": 10,
   "id": "61793240-0520-4424-ba14-99e1e264bd7f",
   "metadata": {},
   "outputs": [
    {
     "data": {
      "image/png": "[encoded data removed]",
      "text/plain": [
       "<Figure size 504x504 with 1 Axes>"
      ]
     },
     "metadata": {
      "needs_background": "light"
     },
     "output_type": "display_data"
    }
   ],
   "source": [
    "X_data = data['Z1-4'].to_numpy()\n",
    "X_data = X_data[~np.isnan(X_data)]\n",
    "hist_pdf(X_data, bins=9)"
   ]
  },
  {
   "cell_type": "markdown",
   "id": "d49303db-7c68-4f7a-9936-db72ce5b7c98",
   "metadata": {},
   "source": [
    "## Эмпирическая функция распределения"
   ]
  },
  {
   "cell_type": "code",
   "execution_count": 7,
   "id": "ef5a9368-139f-4c0f-97ee-833f251c94f9",
   "metadata": {},
   "outputs": [],
   "source": [
    "def edf_cdf(data: np.array, distn: str='norm'):\n",
    "    \"\"\"\n",
    "    Построение ЭФР для оценки функции распределния\n",
    "    Args:\n",
    "        data: данные\n",
    "    \"\"\"\n",
    "    data.sort()\n",
    "    n = data.shape[0]\n",
    "    data_mean = data.mean()\n",
    "    data_std = data.std()\n",
    "    data_min = data.min()\n",
    "    data_max = data.max()\n",
    "    \n",
    "    if distn == 'norm':\n",
    "        cdf_func = stats.norm.cdf\n",
    "        cdf_params = (data_mean, data_std)\n",
    "    elif distn == 'exp':\n",
    "        cdf_func = stats.expon.cdf\n",
    "        cdf_params = (0, data_mean)\n",
    "    elif distn == 'uniform':\n",
    "        cdf_func = stats.uniform.cdf\n",
    "        cdf_params = (data_min, data_max)\n",
    "    else:\n",
    "        raise Exception('Distribution should be like norm, exp, uniform!')\n",
    "    \n",
    "    \n",
    "    x_edf, y_edf = [data[0]], [0]\n",
    "    for i in range(1, len(data)):\n",
    "        f_n = sum(data < data[i]) / n\n",
    "        x_edf.append(data[i - 1])\n",
    "        y_edf.append(f_n)\n",
    "        \n",
    "        x_edf.append(data[i])\n",
    "        y_edf.append(f_n)\n",
    "    x_edf.append(data[-1])\n",
    "    y_edf.append(1)\n",
    "    \n",
    "    cdf = cdf_func(data, *cdf_params)\n",
    "\n",
    "    fig, axs = plt.subplots(1, 1, figsize=(7, 7))\n",
    "    axs.set_title('Оценка функции распределения')\n",
    "    axs.plot(x_edf, y_edf, label='Эмпирическая функция распределения')\n",
    "    axs.plot(data, cdf, label='Функция распределения')\n",
    "    axs.set_xlabel('x')\n",
    "    axs.set_ylabel('F(x)')\n",
    "    axs.legend()\n",
    "    plt.show()"
   ]
  },
  {
   "cell_type": "code",
   "execution_count": 8,
   "id": "ae68e39f-bcc9-4468-a7c4-11c9f19397bb",
   "metadata": {},
   "outputs": [
    {
     "data": {
      "image/png": "[encoded data removed]",
      "text/plain": [
       "<Figure size 504x504 with 1 Axes>"
      ]
     },
     "metadata": {
      "needs_background": "light"
     },
     "output_type": "display_data"
    }
   ],
   "source": [
    "X_data = data['Z1-4'].to_numpy()\n",
    "X_data = X_data[~np.isnan(X_data)]\n",
    "edf_cdf(X_data)"
   ]
  }
 ],
 "metadata": {
  "kernelspec": {
   "display_name": "Python 3 (ipykernel)",
   "language": "python",
   "name": "python3"
  },
  "language_info": {
   "codemirror_mode": {
    "name": "ipython",
    "version": 3
   },
   "file_extension": ".py",
   "mimetype": "text/x-python",
   "name": "python",
   "nbconvert_exporter": "python",
   "pygments_lexer": "ipython3",
   "version": "3.7.7"
  }
 },
 "nbformat": 4,
 "nbformat_minor": 5
}
