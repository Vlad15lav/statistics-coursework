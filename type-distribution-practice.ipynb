{
 "cells": [
  {
   "cell_type": "code",
   "execution_count": 1,
   "id": "e485245a-196b-4cf0-8343-deb35a7b98d5",
   "metadata": {},
   "outputs": [],
   "source": [
    "import math\n",
    "import numpy as np\n",
    "import pandas as pd\n",
    "import matplotlib.pyplot as plt\n",
    "\n",
    "from pandas.core.frame import DataFrame\n",
    "from scipy import stats"
   ]
  },
  {
   "cell_type": "code",
   "execution_count": 2,
   "id": "b297f3f5-676f-4ea7-9bd7-dae2c4f17ba6",
   "metadata": {},
   "outputs": [
    {
     "data": {
      "text/html": [
       "<div>\n",
       "<style scoped>\n",
       "    .dataframe tbody tr th:only-of-type {\n",
       "        vertical-align: middle;\n",
       "    }\n",
       "\n",
       "    .dataframe tbody tr th {\n",
       "        vertical-align: top;\n",
       "    }\n",
       "\n",
       "    .dataframe thead th {\n",
       "        text-align: right;\n",
       "    }\n",
       "</style>\n",
       "<table border=\"1\" class=\"dataframe\">\n",
       "  <thead>\n",
       "    <tr style=\"text-align: right;\">\n",
       "      <th></th>\n",
       "      <th>Z1-4</th>\n",
       "      <th>Z5A</th>\n",
       "      <th>Z5B</th>\n",
       "      <th>Z6I</th>\n",
       "      <th>Z6IIA</th>\n",
       "      <th>Z6IIB</th>\n",
       "      <th>Z7A</th>\n",
       "      <th>Z7B</th>\n",
       "      <th>Z8A</th>\n",
       "      <th>Z8B</th>\n",
       "      <th>Z9A</th>\n",
       "      <th>Z9B</th>\n",
       "      <th>Z10A</th>\n",
       "      <th>Z10B</th>\n",
       "      <th>Z11</th>\n",
       "      <th>Z12</th>\n",
       "      <th>Z13</th>\n",
       "      <th>Z14,15,16_x</th>\n",
       "      <th>Z14,15,16_y</th>\n",
       "      <th>Unnamed: 19</th>\n",
       "    </tr>\n",
       "  </thead>\n",
       "  <tbody>\n",
       "    <tr>\n",
       "      <th>0</th>\n",
       "      <td>122.3</td>\n",
       "      <td>152.0</td>\n",
       "      <td>158.8</td>\n",
       "      <td>B</td>\n",
       "      <td>133.7</td>\n",
       "      <td>131.6</td>\n",
       "      <td>168.3</td>\n",
       "      <td>172.2</td>\n",
       "      <td>54.9</td>\n",
       "      <td>76.3</td>\n",
       "      <td>85.8</td>\n",
       "      <td>154.7</td>\n",
       "      <td>24.7</td>\n",
       "      <td>27.7</td>\n",
       "      <td>103.3</td>\n",
       "      <td>100.7</td>\n",
       "      <td>118.5</td>\n",
       "      <td>120.6</td>\n",
       "      <td>84.4</td>\n",
       "      <td>NaN</td>\n",
       "    </tr>\n",
       "    <tr>\n",
       "      <th>1</th>\n",
       "      <td>117.9</td>\n",
       "      <td>161.4</td>\n",
       "      <td>159.2</td>\n",
       "      <td>B</td>\n",
       "      <td>170.7</td>\n",
       "      <td>157.0</td>\n",
       "      <td>173.2</td>\n",
       "      <td>154.7</td>\n",
       "      <td>50.9</td>\n",
       "      <td>60.9</td>\n",
       "      <td>134.8</td>\n",
       "      <td>137.2</td>\n",
       "      <td>18.4</td>\n",
       "      <td>20.4</td>\n",
       "      <td>93.9</td>\n",
       "      <td>91.5</td>\n",
       "      <td>122.4</td>\n",
       "      <td>124.2</td>\n",
       "      <td>76.9</td>\n",
       "      <td>NaN</td>\n",
       "    </tr>\n",
       "    <tr>\n",
       "      <th>2</th>\n",
       "      <td>118.0</td>\n",
       "      <td>140.1</td>\n",
       "      <td>151.5</td>\n",
       "      <td>B</td>\n",
       "      <td>169.2</td>\n",
       "      <td>155.3</td>\n",
       "      <td>186.1</td>\n",
       "      <td>167.4</td>\n",
       "      <td>28.2</td>\n",
       "      <td>66.2</td>\n",
       "      <td>174.0</td>\n",
       "      <td>146.7</td>\n",
       "      <td>29.5</td>\n",
       "      <td>30.4</td>\n",
       "      <td>96.3</td>\n",
       "      <td>96.5</td>\n",
       "      <td>120.4</td>\n",
       "      <td>126.2</td>\n",
       "      <td>82.3</td>\n",
       "      <td>NaN</td>\n",
       "    </tr>\n",
       "    <tr>\n",
       "      <th>3</th>\n",
       "      <td>124.0</td>\n",
       "      <td>147.0</td>\n",
       "      <td>160.4</td>\n",
       "      <td>B</td>\n",
       "      <td>163.1</td>\n",
       "      <td>148.2</td>\n",
       "      <td>160.7</td>\n",
       "      <td>176.6</td>\n",
       "      <td>54.2</td>\n",
       "      <td>89.9</td>\n",
       "      <td>177.9</td>\n",
       "      <td>142.9</td>\n",
       "      <td>30.2</td>\n",
       "      <td>25.8</td>\n",
       "      <td>92.2</td>\n",
       "      <td>94.3</td>\n",
       "      <td>117.9</td>\n",
       "      <td>127.6</td>\n",
       "      <td>80.0</td>\n",
       "      <td>NaN</td>\n",
       "    </tr>\n",
       "    <tr>\n",
       "      <th>4</th>\n",
       "      <td>126.5</td>\n",
       "      <td>150.6</td>\n",
       "      <td>152.2</td>\n",
       "      <td>B</td>\n",
       "      <td>144.1</td>\n",
       "      <td>143.4</td>\n",
       "      <td>177.9</td>\n",
       "      <td>160.7</td>\n",
       "      <td>42.7</td>\n",
       "      <td>68.9</td>\n",
       "      <td>163.4</td>\n",
       "      <td>136.3</td>\n",
       "      <td>20.7</td>\n",
       "      <td>26.0</td>\n",
       "      <td>97.4</td>\n",
       "      <td>104.7</td>\n",
       "      <td>120.3</td>\n",
       "      <td>128.9</td>\n",
       "      <td>76.7</td>\n",
       "      <td>NaN</td>\n",
       "    </tr>\n",
       "  </tbody>\n",
       "</table>\n",
       "</div>"
      ],
      "text/plain": [
       "    Z1-4    Z5A    Z5B Z6I  Z6IIA  Z6IIB    Z7A    Z7B   Z8A   Z8B    Z9A  \\\n",
       "0  122.3  152.0  158.8   B  133.7  131.6  168.3  172.2  54.9  76.3   85.8   \n",
       "1  117.9  161.4  159.2   B  170.7  157.0  173.2  154.7  50.9  60.9  134.8   \n",
       "2  118.0  140.1  151.5   B  169.2  155.3  186.1  167.4  28.2  66.2  174.0   \n",
       "3  124.0  147.0  160.4   B  163.1  148.2  160.7  176.6  54.2  89.9  177.9   \n",
       "4  126.5  150.6  152.2   B  144.1  143.4  177.9  160.7  42.7  68.9  163.4   \n",
       "\n",
       "     Z9B  Z10A  Z10B    Z11    Z12    Z13  Z14,15,16_x  Z14,15,16_y  \\\n",
       "0  154.7  24.7  27.7  103.3  100.7  118.5        120.6         84.4   \n",
       "1  137.2  18.4  20.4   93.9   91.5  122.4        124.2         76.9   \n",
       "2  146.7  29.5  30.4   96.3   96.5  120.4        126.2         82.3   \n",
       "3  142.9  30.2  25.8   92.2   94.3  117.9        127.6         80.0   \n",
       "4  136.3  20.7  26.0   97.4  104.7  120.3        128.9         76.7   \n",
       "\n",
       "   Unnamed: 19  \n",
       "0          NaN  \n",
       "1          NaN  \n",
       "2          NaN  \n",
       "3          NaN  \n",
       "4          NaN  "
      ]
     },
     "execution_count": 2,
     "metadata": {},
     "output_type": "execute_result"
    }
   ],
   "source": [
    "data = pd.read_csv('data\\\\data.csv', sep=';')\n",
    "data.head()"
   ]
  },
  {
   "cell_type": "markdown",
   "id": "e5aada39-2b05-41c7-8586-64a2cb6a391a",
   "metadata": {},
   "source": [
    "# Проверка гипотезы о типе распределения"
   ]
  },
  {
   "cell_type": "markdown",
   "id": "64fc30ae-ac2e-45bb-91cd-8b321d6f2213",
   "metadata": {},
   "source": [
    "## Критерий согласия хи-квадрат"
   ]
  },
  {
   "cell_type": "markdown",
   "id": "0b378d7b-a0a9-45de-9b24-91aba5abebaa",
   "metadata": {},
   "source": [
    "Требуется проверить гипотезу $H_0$ о том, что она пренадлежит заданому семейству распределения (нормальному, экспоненциальному или равномерному)"
   ]
  },
  {
   "cell_type": "code",
   "execution_count": 3,
   "id": "41dc9e4b-0cdc-41af-9384-46f45ffdb211",
   "metadata": {},
   "outputs": [],
   "source": [
    "def crit_chi2(data: np.array, r: int=9, alp: float=0.1, distn: str='norm'):\n",
    "    \"\"\"\n",
    "    Критерий согласия Хи-квадрат\n",
    "    Args:\n",
    "        data: данные\n",
    "        r: количество интервалов\n",
    "        alp: уровень значимости\n",
    "        dist (norm, exp, uniform): тип семейства для проверки гипотезы\n",
    "    \"\"\"    \n",
    "    data.sort()\n",
    "    n = data.shape[0]\n",
    "    data_mean = data.mean()\n",
    "    data_std = data.std()\n",
    "    data_min = data.min()\n",
    "    data_max = data.max()\n",
    "    \n",
    "    if distn == 'norm':\n",
    "        cdf_func = stats.norm.cdf\n",
    "        cdf_params = (data_mean, data_std)\n",
    "        m = 2\n",
    "    elif distn == 'exp':\n",
    "        cdf_func = stats.expon.cdf\n",
    "        cdf_params = (0, data_mean)\n",
    "        m = 1\n",
    "    elif distn == 'uniform':\n",
    "        cdf_func = stats.uniform.cdf\n",
    "        cdf_params = (data_min, data_max)\n",
    "        m = 0\n",
    "    else:\n",
    "        raise Exception('Distribution should be like norm, exp, uniform!')\n",
    "    \n",
    "    inter = np.linspace(data_min, data_max, r)\n",
    "    freqs = [sum(data < inter[0])]\n",
    "    probs = [cdf_func(inter[0], *cdf_params)]\n",
    "    for i in range(1, r):\n",
    "        freqs.append(sum(np.all((inter[i-1] <= data, data < inter[i]), axis=0)))\n",
    "        probs.append(cdf_func(inter[i], *cdf_params))\n",
    "    freqs.append(sum(inter[-1] <= data))\n",
    "    probs.append(1)\n",
    "    \n",
    "    # n * p_i\n",
    "    theor_freqs = [n * (probs[i] - probs[i-1]) for i in range(1, r + 1)]\n",
    "    hi2_stat = sum([((freqs[i+1] - theor_freqs[i]) ** 2) / theor_freqs[i] for i in range(r)])\n",
    "    alp_r_1 = 1 - stats.chi2.cdf(hi2_stat, df=r - 1)\n",
    "    alp_r_m = 1 - stats.chi2.cdf(hi2_stat, df=r - 1 - m)\n",
    "    \n",
    "    print(f\"Уровень значимости: {alp}\")\n",
    "    print(f\"Интервал p-value: [{alp_r_m}, {alp_r_1}]\")\n",
    "    if alp_r_m <= alp and alp <= alp_r_1:\n",
    "        print('Невозможно сделать вывод о распределении данных!')\n",
    "    elif alp < alp_r_m:\n",
    "        print(f'Данные распределены {distn}, гипотеза H0 не отклоняется!')\n",
    "    else:\n",
    "        print(f'Данные распределены не {distn}, гипотеза H0 отклоняется!')"
   ]
  },
  {
   "cell_type": "code",
   "execution_count": 4,
   "id": "ccd5614d-4949-4b13-8950-49a879bb0ae9",
   "metadata": {},
   "outputs": [
    {
     "name": "stdout",
     "output_type": "stream",
     "text": [
      "Уровень значимости: 0.1\n",
      "Интервал p-value: [0.3412345204340306, 0.560049043717947]\n",
      "Данные распределены norm, гипотеза H0 не отклоняется!\n",
      "\n",
      "Пример для сгенерированного exp:\n",
      "Уровень значимости: 0.1\n",
      "Интервал p-value: [0.9258225819329744, 0.9609403661284361]\n",
      "Данные распределены exp, гипотеза H0 не отклоняется!\n",
      "\n",
      "Пример для сгенерированного uniform:\n",
      "Уровень значимости: 0.1\n",
      "Интервал p-value: [0.7348741903587148, 0.7348741903587148]\n",
      "Данные распределены uniform, гипотеза H0 не отклоняется!\n"
     ]
    }
   ],
   "source": [
    "X_data = data['Z1-4'].to_numpy()\n",
    "X_data = X_data[~np.isnan(X_data)]\n",
    "\n",
    "crit_chi2(X_data, r=9, alp=0.1)\n",
    "print('')\n",
    "print('Пример для сгенерированного exp:')\n",
    "crit_chi2(np.random.exponential(5, 100), r=9, alp=0.1, distn='exp')\n",
    "print('')\n",
    "print('Пример для сгенерированного uniform:')\n",
    "crit_chi2(np.random.uniform(0, 5, 100), r=9, alp=0.1, distn='uniform') "
   ]
  },
  {
   "cell_type": "markdown",
   "id": "ba7da58c-9e13-4eec-b1db-9d5f8f05c7e7",
   "metadata": {},
   "source": [
    "## Критерий согласия Колмогорова (Колмогорова-Смирнова)"
   ]
  },
  {
   "cell_type": "markdown",
   "id": "5543f38d-1517-4fed-a931-58332a47c4d6",
   "metadata": {},
   "source": [
    "Для выборки X(n) ∼ F требуется проверить гипотезу H0 : F = G о том, что функция распределения выборочных данных совпадает с заданным распределением G."
   ]
  },
  {
   "cell_type": "code",
   "execution_count": 5,
   "id": "37e97b83-6e3b-4d17-8fd8-affd67977f7b",
   "metadata": {},
   "outputs": [],
   "source": [
    "def crit_kolmogorov(data: np.array, alp: float=0.1, distn: str='norm'):\n",
    "    \"\"\"\n",
    "    Критерий согласия Колмогорова\n",
    "    Args:\n",
    "        data: данные\n",
    "        alp: уровень значимости\n",
    "        dist (norm, exp, uniform): тип семейства для проверки гипотезы\n",
    "    \"\"\"\n",
    "    data.sort()\n",
    "    n = data.shape[0]\n",
    "    data_mean = data.mean()\n",
    "    data_std = data.std()\n",
    "    data_min = data.min()\n",
    "    data_max = data.max()\n",
    "    \n",
    "    if distn == 'norm':\n",
    "        cdf_func = stats.norm.cdf\n",
    "        cdf_params = (data_mean, data_std)\n",
    "        m = 2\n",
    "    elif distn == 'exp':\n",
    "        cdf_func = stats.expon.cdf\n",
    "        cdf_params = (0, data_mean)\n",
    "        m = 1\n",
    "    elif distn == 'uniform':\n",
    "        cdf_func = stats.uniform.cdf\n",
    "        cdf_params = (data_min, data_max)\n",
    "        m = 0\n",
    "    else:\n",
    "        raise Exception('Distribution should be like norm, exp, uniform!')\n",
    "    \n",
    "    x_edf, y_edf = [data[0]], [0]\n",
    "    for i in range(1, len(data)):\n",
    "        f_n = sum(data < data[i]) / n\n",
    "        x_edf.append(data[i - 1])\n",
    "        y_edf.append(f_n)\n",
    "        \n",
    "        x_edf.append(data[i])\n",
    "        y_edf.append(f_n)\n",
    "    #x_edf.append(data[-1])\n",
    "    #y_edf.append(1)\n",
    "    \n",
    "    cdf = cdf_func(data, *cdf_params)\n",
    "    \n",
    "    D = abs(np.array(y_edf[::2]) - np.array(cdf))\n",
    "    arg_delta = np.argmax(D)\n",
    "    D = D[arg_delta]\n",
    "    \n",
    "    arg_D, val_D = data[arg_delta], cdf[arg_delta]\n",
    "    x_D, y_D = [arg_D, arg_D], [val_D - D, val_D + D]\n",
    "    \n",
    "    fig, axs = plt.subplots(1, 1, figsize=(7, 7))\n",
    "    axs.set_title('Критерий согласия Колмогорова')\n",
    "    axs.plot(x_edf, y_edf, label='Эмпирическая функция распределения')\n",
    "    axs.plot(data, cdf, label='Функция распределения')\n",
    "    axs.plot(x_D, y_D, 'r', label=f'Dn = {D}')\n",
    "    axs.set_xlabel('x')\n",
    "    axs.set_ylabel('F(x)')\n",
    "    axs.legend()\n",
    "    plt.show()\n",
    "    \n",
    "    kolm_stat = math.sqrt(n) * D\n",
    "    p_value = 2 * (math.e ** (-2 * kolm_stat * kolm_stat))\n",
    "    c_crit = math.sqrt(-0.5 * math.log(alp / 2))\n",
    "    \n",
    "    print(\"Dn:\", kolm_stat)\n",
    "    print(\"Уровень значимость:\", alp)\n",
    "    print(f\"Крит. область Dn > {c_crit}\")\n",
    "    print(\"p-value:\", p_value)\n",
    "    if kolm_stat > c_crit:\n",
    "        print('Гипотеза H0 отклоняется!')\n",
    "    else:\n",
    "        print('Гипотеза H0 не отклоняется')"
   ]
  },
  {
   "cell_type": "code",
   "execution_count": 6,
   "id": "2ce8d2cb-3cd1-43ed-a6ed-2ef801f8722c",
   "metadata": {},
   "outputs": [
    {
     "data": {
      "image/png": "[encoded data removed]",
      "text/plain": [
       "<Figure size 504x504 with 1 Axes>"
      ]
     },
     "metadata": {
      "needs_background": "light"
     },
     "output_type": "display_data"
    },
    {
     "name": "stdout",
     "output_type": "stream",
     "text": [
      "Dn: 0.9038987449345373\n",
      "Уровень значимость: 0.1\n",
      "Крит. область Dn > 1.2238734153404083\n",
      "p-value: 0.3902691297269861\n",
      "Гипотеза H0 не отклоняется\n",
      "\n",
      "Пример для сгенерированного exp:\n"
     ]
    },
    {
     "data": {
      "image/png": "[encoded data removed]",
      "text/plain": [
       "<Figure size 504x504 with 1 Axes>"
      ]
     },
     "metadata": {
      "needs_background": "light"
     },
     "output_type": "display_data"
    },
    {
     "name": "stdout",
     "output_type": "stream",
     "text": [
      "Dn: 0.6575946141130351\n",
      "Уровень значимость: 0.1\n",
      "Крит. область Dn > 1.2238734153404083\n",
      "p-value: 0.842219868400482\n",
      "Гипотеза H0 не отклоняется\n",
      "\n",
      "Пример для сгенерированного uniform:\n"
     ]
    },
    {
     "data": {
      "image/png": "[encoded data removed]",
      "text/plain": [
       "<Figure size 504x504 with 1 Axes>"
      ]
     },
     "metadata": {
      "needs_background": "light"
     },
     "output_type": "display_data"
    },
    {
     "name": "stdout",
     "output_type": "stream",
     "text": [
      "Dn: 0.517194437198264\n",
      "Уровень значимость: 0.1\n",
      "Крит. область Dn > 1.2238734153404083\n",
      "p-value: 1.1713618061285123\n",
      "Гипотеза H0 не отклоняется\n"
     ]
    }
   ],
   "source": [
    "X_data = data['Z1-4'].to_numpy()\n",
    "X_data = X_data[~np.isnan(X_data)]\n",
    "\n",
    "crit_kolmogorov(X_data, alp=0.1)\n",
    "print('')\n",
    "print('Пример для сгенерированного exp:')\n",
    "crit_kolmogorov(np.random.exponential(5, 100), alp=0.1, distn='exp')\n",
    "print('')\n",
    "print('Пример для сгенерированного uniform:')\n",
    "crit_kolmogorov(np.random.uniform(0, 5, 100), alp=0.1, distn='uniform') "
   ]
  }
 ],
 "metadata": {
  "kernelspec": {
   "display_name": "Python 3 (ipykernel)",
   "language": "python",
   "name": "python3"
  },
  "language_info": {
   "codemirror_mode": {
    "name": "ipython",
    "version": 3
   },
   "file_extension": ".py",
   "mimetype": "text/x-python",
   "name": "python",
   "nbconvert_exporter": "python",
   "pygments_lexer": "ipython3",
   "version": "3.7.7"
  }
 },
 "nbformat": 4,
 "nbformat_minor": 5
}
