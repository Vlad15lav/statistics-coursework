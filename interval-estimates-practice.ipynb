{
 "cells": [
  {
   "cell_type": "code",
   "execution_count": 1,
   "id": "4a849262-e9d9-4125-b8ba-8dae0cb415f7",
   "metadata": {},
   "outputs": [],
   "source": [
    "import math\n",
    "import numpy as np\n",
    "import pandas as pd\n",
    "import matplotlib.pyplot as plt\n",
    "\n",
    "from pandas.core.frame import DataFrame\n",
    "from scipy import stats"
   ]
  },
  {
   "cell_type": "code",
   "execution_count": 2,
   "id": "54dd3994-6bc7-4261-b5ff-681e74ff5836",
   "metadata": {},
   "outputs": [
    {
     "data": {
      "text/html": [
       "<div>\n",
       "<style scoped>\n",
       "    .dataframe tbody tr th:only-of-type {\n",
       "        vertical-align: middle;\n",
       "    }\n",
       "\n",
       "    .dataframe tbody tr th {\n",
       "        vertical-align: top;\n",
       "    }\n",
       "\n",
       "    .dataframe thead th {\n",
       "        text-align: right;\n",
       "    }\n",
       "</style>\n",
       "<table border=\"1\" class=\"dataframe\">\n",
       "  <thead>\n",
       "    <tr style=\"text-align: right;\">\n",
       "      <th></th>\n",
       "      <th>Z1-4</th>\n",
       "      <th>Z5A</th>\n",
       "      <th>Z5B</th>\n",
       "      <th>Z6I</th>\n",
       "      <th>Z6IIA</th>\n",
       "      <th>Z6IIB</th>\n",
       "      <th>Z7A</th>\n",
       "      <th>Z7B</th>\n",
       "      <th>Z8A</th>\n",
       "      <th>Z8B</th>\n",
       "      <th>Z9A</th>\n",
       "      <th>Z9B</th>\n",
       "      <th>Z10A</th>\n",
       "      <th>Z10B</th>\n",
       "      <th>Z11</th>\n",
       "      <th>Z12</th>\n",
       "      <th>Z13</th>\n",
       "      <th>Z14,15,16_x</th>\n",
       "      <th>Z14,15,16_y</th>\n",
       "      <th>Unnamed: 19</th>\n",
       "    </tr>\n",
       "  </thead>\n",
       "  <tbody>\n",
       "    <tr>\n",
       "      <th>0</th>\n",
       "      <td>122.3</td>\n",
       "      <td>152.0</td>\n",
       "      <td>158.8</td>\n",
       "      <td>B</td>\n",
       "      <td>133.7</td>\n",
       "      <td>131.6</td>\n",
       "      <td>168.3</td>\n",
       "      <td>172.2</td>\n",
       "      <td>54.9</td>\n",
       "      <td>76.3</td>\n",
       "      <td>85.8</td>\n",
       "      <td>154.7</td>\n",
       "      <td>24.7</td>\n",
       "      <td>27.7</td>\n",
       "      <td>103.3</td>\n",
       "      <td>100.7</td>\n",
       "      <td>118.5</td>\n",
       "      <td>120.6</td>\n",
       "      <td>84.4</td>\n",
       "      <td>NaN</td>\n",
       "    </tr>\n",
       "    <tr>\n",
       "      <th>1</th>\n",
       "      <td>117.9</td>\n",
       "      <td>161.4</td>\n",
       "      <td>159.2</td>\n",
       "      <td>B</td>\n",
       "      <td>170.7</td>\n",
       "      <td>157.0</td>\n",
       "      <td>173.2</td>\n",
       "      <td>154.7</td>\n",
       "      <td>50.9</td>\n",
       "      <td>60.9</td>\n",
       "      <td>134.8</td>\n",
       "      <td>137.2</td>\n",
       "      <td>18.4</td>\n",
       "      <td>20.4</td>\n",
       "      <td>93.9</td>\n",
       "      <td>91.5</td>\n",
       "      <td>122.4</td>\n",
       "      <td>124.2</td>\n",
       "      <td>76.9</td>\n",
       "      <td>NaN</td>\n",
       "    </tr>\n",
       "    <tr>\n",
       "      <th>2</th>\n",
       "      <td>118.0</td>\n",
       "      <td>140.1</td>\n",
       "      <td>151.5</td>\n",
       "      <td>B</td>\n",
       "      <td>169.2</td>\n",
       "      <td>155.3</td>\n",
       "      <td>186.1</td>\n",
       "      <td>167.4</td>\n",
       "      <td>28.2</td>\n",
       "      <td>66.2</td>\n",
       "      <td>174.0</td>\n",
       "      <td>146.7</td>\n",
       "      <td>29.5</td>\n",
       "      <td>30.4</td>\n",
       "      <td>96.3</td>\n",
       "      <td>96.5</td>\n",
       "      <td>120.4</td>\n",
       "      <td>126.2</td>\n",
       "      <td>82.3</td>\n",
       "      <td>NaN</td>\n",
       "    </tr>\n",
       "    <tr>\n",
       "      <th>3</th>\n",
       "      <td>124.0</td>\n",
       "      <td>147.0</td>\n",
       "      <td>160.4</td>\n",
       "      <td>B</td>\n",
       "      <td>163.1</td>\n",
       "      <td>148.2</td>\n",
       "      <td>160.7</td>\n",
       "      <td>176.6</td>\n",
       "      <td>54.2</td>\n",
       "      <td>89.9</td>\n",
       "      <td>177.9</td>\n",
       "      <td>142.9</td>\n",
       "      <td>30.2</td>\n",
       "      <td>25.8</td>\n",
       "      <td>92.2</td>\n",
       "      <td>94.3</td>\n",
       "      <td>117.9</td>\n",
       "      <td>127.6</td>\n",
       "      <td>80.0</td>\n",
       "      <td>NaN</td>\n",
       "    </tr>\n",
       "    <tr>\n",
       "      <th>4</th>\n",
       "      <td>126.5</td>\n",
       "      <td>150.6</td>\n",
       "      <td>152.2</td>\n",
       "      <td>B</td>\n",
       "      <td>144.1</td>\n",
       "      <td>143.4</td>\n",
       "      <td>177.9</td>\n",
       "      <td>160.7</td>\n",
       "      <td>42.7</td>\n",
       "      <td>68.9</td>\n",
       "      <td>163.4</td>\n",
       "      <td>136.3</td>\n",
       "      <td>20.7</td>\n",
       "      <td>26.0</td>\n",
       "      <td>97.4</td>\n",
       "      <td>104.7</td>\n",
       "      <td>120.3</td>\n",
       "      <td>128.9</td>\n",
       "      <td>76.7</td>\n",
       "      <td>NaN</td>\n",
       "    </tr>\n",
       "  </tbody>\n",
       "</table>\n",
       "</div>"
      ],
      "text/plain": [
       "    Z1-4    Z5A    Z5B Z6I  Z6IIA  Z6IIB    Z7A    Z7B   Z8A   Z8B    Z9A  \\\n",
       "0  122.3  152.0  158.8   B  133.7  131.6  168.3  172.2  54.9  76.3   85.8   \n",
       "1  117.9  161.4  159.2   B  170.7  157.0  173.2  154.7  50.9  60.9  134.8   \n",
       "2  118.0  140.1  151.5   B  169.2  155.3  186.1  167.4  28.2  66.2  174.0   \n",
       "3  124.0  147.0  160.4   B  163.1  148.2  160.7  176.6  54.2  89.9  177.9   \n",
       "4  126.5  150.6  152.2   B  144.1  143.4  177.9  160.7  42.7  68.9  163.4   \n",
       "\n",
       "     Z9B  Z10A  Z10B    Z11    Z12    Z13  Z14,15,16_x  Z14,15,16_y  \\\n",
       "0  154.7  24.7  27.7  103.3  100.7  118.5        120.6         84.4   \n",
       "1  137.2  18.4  20.4   93.9   91.5  122.4        124.2         76.9   \n",
       "2  146.7  29.5  30.4   96.3   96.5  120.4        126.2         82.3   \n",
       "3  142.9  30.2  25.8   92.2   94.3  117.9        127.6         80.0   \n",
       "4  136.3  20.7  26.0   97.4  104.7  120.3        128.9         76.7   \n",
       "\n",
       "   Unnamed: 19  \n",
       "0          NaN  \n",
       "1          NaN  \n",
       "2          NaN  \n",
       "3          NaN  \n",
       "4          NaN  "
      ]
     },
     "execution_count": 2,
     "metadata": {},
     "output_type": "execute_result"
    }
   ],
   "source": [
    "data = pd.read_csv('data\\\\data.csv', sep=';')\n",
    "data.head()"
   ]
  },
  {
   "cell_type": "markdown",
   "id": "efbce6ec-e25e-401f-abc0-4aad22f5ae38",
   "metadata": {},
   "source": [
    "# Интервальные оценки"
   ]
  },
  {
   "cell_type": "markdown",
   "id": "58985133-5dd9-42ab-9e58-7390def4bd78",
   "metadata": {},
   "source": [
    "## Интервальная оценка для неизвестного математического ожидания"
   ]
  },
  {
   "cell_type": "markdown",
   "id": "cac7ad85-10af-46f7-bef0-cbceee04eb08",
   "metadata": {},
   "source": [
    "В эксперименте наблюдается выборка объёма n из копий случайной величины X. Предполагая, что распределение X нормально, необходимо построить доверительный интервал (верхнюю или нижнюю границу) для неизвестного математического ожидания µ = E X."
   ]
  },
  {
   "cell_type": "code",
   "execution_count": 60,
   "id": "172fdb7e-14bb-4afb-91b0-27568d617f86",
   "metadata": {},
   "outputs": [],
   "source": [
    "def conf_interval_mean(x_data: np.array,\n",
    "                       Q: float=0.99,\n",
    "                       type_interval='lower'):\n",
    "    \"\"\"\n",
    "    Интервальная оценка для мат. ожидание\n",
    "    Args:\n",
    "        x_data: данные\n",
    "        Q: надежность интервала\n",
    "        type_interval (lower, upper, double-side): lower - нижняя,\n",
    "                                                    upper - верхняя,\n",
    "                                                    double-side - двухстороняя\n",
    "    \"\"\"\n",
    "    if Q < 0 or Q > 1:\n",
    "        raise Exception('Q should be [0, 1]!')\n",
    "    alp = 1 - Q\n",
    "    n = x_data.shape[0]\n",
    "    \n",
    "    if type_interval == 'lower' or type_interval == 'upper':\n",
    "        t_alp = stats.t.ppf(1 - alp, df=n - 1)\n",
    "    elif type_interval == 'double-side':\n",
    "        t_alp = stats.t.ppf(1 - alp / 2, df=n - 1)\n",
    "    else:\n",
    "        raise Exception('Type interval should be like lower, upper, double-side!')\n",
    "    \n",
    "    m = x_data.std() / math.sqrt(n - 1)\n",
    "    x_mean = x_data.mean()\n",
    "    \n",
    "    print(f\"Надежность {Q * 100}%\")\n",
    "    \n",
    "    if type_interval == 'lower':\n",
    "        print(f\"Нижняя граница среднего: {x_mean - m * t_alp}\")\n",
    "    elif type_interval == 'upper':\n",
    "        print(f\"Верхняя граница среднего: {x_mean + m * t_alp}\")\n",
    "    else:\n",
    "        print(f\"Двухстороняя граница среднего: ({x_mean - m * t_alp}, {x_mean + m * t_alp})\")"
   ]
  },
  {
   "cell_type": "code",
   "execution_count": 61,
   "id": "986579e0-e94c-4740-9cde-bdc070499f7a",
   "metadata": {},
   "outputs": [
    {
     "name": "stdout",
     "output_type": "stream",
     "text": [
      "Надежность 99.0%\n",
      "Двухстороняя граница среднего: (96.89914358217128, 101.88418975116208)\n"
     ]
    }
   ],
   "source": [
    "X_data = data['Z11'].to_numpy()\n",
    "X_data = X_data[~np.isnan(X_data)]\n",
    "\n",
    "conf_interval_mean(X_data, type_interval='double-side')"
   ]
  },
  {
   "cell_type": "markdown",
   "id": "7d15238d-fd3e-426c-bff4-e0c3b4d3416f",
   "metadata": {},
   "source": [
    "# Интервальная оценка для неизвестной дисперсии нормального распределения"
   ]
  },
  {
   "cell_type": "markdown",
   "id": "35c04e9b-1809-41e6-923e-11ab1062ca27",
   "metadata": {},
   "source": [
    "В эксперименте наблюдается выборка объёма n из копий случайной величины X. Предполагая, что распределение X нормально, необходимо построить доверительный интервал (верхнюю или нижнюю границу) для неизвестной дисперсии σ 2 = DX и стандартного отклонения σ."
   ]
  },
  {
   "cell_type": "code",
   "execution_count": 58,
   "id": "f6ddee41-4cff-423b-ae41-473bd302c1f4",
   "metadata": {},
   "outputs": [],
   "source": [
    "def conf_interval_var(x_data: np.array,\n",
    "                       Q: float=0.99,\n",
    "                       type_interval='lower'):\n",
    "    \"\"\"\n",
    "    Интервальная оценка для дисперсии\n",
    "    Args:\n",
    "        x_data: данные\n",
    "        Q: надежность интервала\n",
    "        type_interval (lower, upper, double-side): lower - нижняя,\n",
    "                                                    upper - верхняя,\n",
    "                                                    double-side - двухстороняя\n",
    "    \"\"\"\n",
    "    if Q < 0 or Q > 1:\n",
    "        raise Exception('Q should be [0, 1]!')\n",
    "    alp = 1 - Q\n",
    "    n = x_data.shape[0]\n",
    "    \n",
    "    if type_interval == 'lower':\n",
    "        chi2_alp = stats.chi2.ppf(1 - alp, df=n - 1)\n",
    "    elif type_interval == 'upper':\n",
    "        chi2_alp = stats.chi2.ppf(alp, df=n - 1)\n",
    "    elif type_interval == 'double-side':\n",
    "        chi2_alp_lower = stats.chi2.ppf(1 - alp / 2, df=n - 1)\n",
    "        chi2_alp_upper = stats.chi2.ppf(alp / 2, df=n - 1)\n",
    "    else:\n",
    "        raise Exception('Type interval should be like lower, upper, double-side!')\n",
    "    \n",
    "    x_var = x_data.var()\n",
    "    \n",
    "    print(f\"Надежность {Q * 100}%\")\n",
    "    \n",
    "    if type_interval == 'lower':\n",
    "        print(f\"Нижняя граница дисперсии: {n * x_var / chi2_alp}\")\n",
    "    elif type_interval == 'upper':\n",
    "        print(f\"Верхняя граница дисперсии: {n * x_var / chi2_alp}\")\n",
    "    else:\n",
    "        print(f\"Двухстороняя граница дисперсии: ({n * x_var / chi2_alp_lower},\\\n",
    "{n * x_var / chi2_alp_upper})\")"
   ]
  },
  {
   "cell_type": "code",
   "execution_count": 59,
   "id": "1f932849-97d0-45f3-a203-cf6d483e8e2a",
   "metadata": {},
   "outputs": [
    {
     "name": "stdout",
     "output_type": "stream",
     "text": [
      "Надежность 90.0%\n",
      "Верхняя граница дисперсии: 37.91692015092335\n"
     ]
    }
   ],
   "source": [
    "X_data = data['Z12'].to_numpy()\n",
    "X_data = X_data[~np.isnan(X_data)]\n",
    "\n",
    "conf_interval_var(X_data, Q=0.9, type_interval='upper')"
   ]
  },
  {
   "cell_type": "markdown",
   "id": "9aa4c8ab-5f17-4a12-8a1c-fe21088a6727",
   "metadata": {},
   "source": [
    "# Интервальная оценка для вероятности успеха"
   ]
  },
  {
   "cell_type": "markdown",
   "id": "4dac10a4-912f-4c5b-917e-b49c1cfae260",
   "metadata": {},
   "source": [
    "В эксперименте подсчитывается число успешных реализаций некоторого события (например, число доброкачественных изделий). Требуется построить доверительный интервал (верхнюю или нижнюю границу) для истинной вероятности p этого события."
   ]
  },
  {
   "cell_type": "code",
   "execution_count": 56,
   "id": "0b97a09f-a2d4-4f87-806a-3467770e58bb",
   "metadata": {},
   "outputs": [],
   "source": [
    "def conf_interval_prob(x_data: np.array,\n",
    "                       Q: float=0.99,\n",
    "                       type_interval='lower'):\n",
    "    \"\"\"\n",
    "    Интервальная оценка для вероятности успеха\n",
    "    Args:\n",
    "        x_data: данные\n",
    "        Q: надежность интервала\n",
    "        type_interval (lower, upper, double-side): lower - нижняя,\n",
    "                                                    upper - верхняя,\n",
    "                                                    double-side - двухстороняя\n",
    "    \"\"\"\n",
    "    if Q < 0 or Q > 1:\n",
    "        raise Exception('Q should be [0, 1]!')\n",
    "    alp = 1 - Q\n",
    "    n = x_data.shape[0]\n",
    "    \n",
    "    if type_interval == 'lower' or type_interval == 'upper':\n",
    "        t_alp = stats.norm.ppf(1 - alp)\n",
    "    elif type_interval == 'double-side':\n",
    "        t_alp = stats.norm.ppf(1 - alp / 2)\n",
    "    else:\n",
    "        raise Exception('Type interval should be like lower, upper, double-side!')\n",
    "    \n",
    "    p_data = sum(x_data) / n\n",
    "    m = math.sqrt(p_data * (1 - p_data) / n)\n",
    "    \n",
    "    print(f\"Надежность {Q * 100}%\")\n",
    "    \n",
    "    if type_interval == 'lower':\n",
    "        print(f\"Нижняя граница вероятности успеха: {p_data - m * t_alp}\")\n",
    "    elif type_interval == 'upper':\n",
    "        print(f\"Верхняя граница вероятности успеха: {p_data + m * t_alp}\")\n",
    "    else:\n",
    "        print(f\"Двухстороняя граница вероятности успеха: ({p_data - m * t_alp},\\\n",
    "{p_data + m * t_alp})\")"
   ]
  },
  {
   "cell_type": "code",
   "execution_count": 57,
   "id": "096bbf6e-818c-418d-bc80-c346e46851ed",
   "metadata": {},
   "outputs": [
    {
     "name": "stdout",
     "output_type": "stream",
     "text": [
      "Надежность 97.5%\n",
      "Двухстороняя граница вероятности успеха: (0.902589384850798,1.0043873593352486)\n"
     ]
    }
   ],
   "source": [
    "X_data = data['Z13'].to_numpy()\n",
    "X_data = X_data[~np.isnan(X_data)]\n",
    "\n",
    "conf_interval_prob(X_data > 116.5, Q=0.975, type_interval='double-side')"
   ]
  }
 ],
 "metadata": {
  "kernelspec": {
   "display_name": "Python 3 (ipykernel)",
   "language": "python",
   "name": "python3"
  },
  "language_info": {
   "codemirror_mode": {
    "name": "ipython",
    "version": 3
   },
   "file_extension": ".py",
   "mimetype": "text/x-python",
   "name": "python",
   "nbconvert_exporter": "python",
   "pygments_lexer": "ipython3",
   "version": "3.7.7"
  },
  "toc-autonumbering": true
 },
 "nbformat": 4,
 "nbformat_minor": 5
}
